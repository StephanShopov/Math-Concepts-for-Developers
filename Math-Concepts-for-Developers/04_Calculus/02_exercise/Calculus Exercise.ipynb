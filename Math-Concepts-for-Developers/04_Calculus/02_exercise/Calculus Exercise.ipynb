{
 "cells": [
  {
   "cell_type": "code",
   "execution_count": 164,
   "metadata": {},
   "outputs": [],
   "source": [
    "## %matplotlib inline"
   ]
  },
  {
   "cell_type": "code",
   "execution_count": null,
   "metadata": {},
   "outputs": [],
   "source": [
    "import numpy as np\n",
    "import matplotlib.pyplot as plt\n",
    "# Write your imports here\n",
    "import math\n",
    "import pygame\n",
    "import sys\n",
    "import time"
   ]
  },
  {
   "cell_type": "markdown",
   "metadata": {},
   "source": [
    "# Calculus Exercise\n",
    "## Numerical Computation. Derivatives, integrals. Calculus in many dimensions"
   ]
  },
  {
   "cell_type": "markdown",
   "metadata": {},
   "source": [
    "### Problem 1. Derivative and Slope at a Point\n",
    "We'll warm up by visualizing how the derivative of a function relates to the slope of the function at a given point.\n",
    "\n",
    "We can either calculate the derivative analytically (by hand) or use the numerical definition. So, let's see what a function and its derivative look like.\n",
    "\n",
    "Write a Python function which plots a math function and its derivative."
   ]
  },
  {
   "cell_type": "code",
   "execution_count": null,
   "metadata": {},
   "outputs": [],
   "source": [
    "# Function to calculate the derivative at a specific point using central difference method\n",
    "def calculate_derivative_at_point(function, point, precision=1e-7):\n",
    "    \"\"\"\n",
    "    Calculates a numerical approximation to the derivative of the specified function\n",
    "    at the given point\n",
    "    \"\"\"\n",
    "    # Using central difference method for higher accuracy\n",
    "    return (function(point + precision) - function(point - precision)) / (2 * precision)\n",
    "\n",
    "# Function to plot the function and its derivative\n",
    "def plot_derivative(function, derivative=None, min_x=-10, max_x=10):\n",
    "    \"\"\"\n",
    "    Plots the function and its derivative. \n",
    "    The `derivative` parameter is optional and can be provided as a separate function.\n",
    "    If it's not provided, the derivative will be calculated automatically\n",
    "    \"\"\"\n",
    "    # Generate x values for the plot\n",
    "    x = np.linspace(min_x, max_x, 1000)\n",
    "    \n",
    "    # Compute y values for the original function\n",
    "    y = np.vectorize(function)(x)\n",
    "    \n",
    "    # Initialize an empty list to store derivative values\n",
    "    dy = []\n",
    "    \n",
    "    if derivative is None:\n",
    "        # Calculate the derivative at each x value using central difference method\n",
    "        dy = np.array([calculate_derivative_at_point(function, xi) for xi in x])\n",
    "    else:\n",
    "        # If derivative function is provided, evaluate it at each x value\n",
    "        dy = np.vectorize(derivative)(x)\n",
    "    \n",
    "    # Plot the function and its derivative\n",
    "    plt.figure(figsize=(10, 6))\n",
    "    plt.plot(x, y, label='Function')\n",
    "    plt.plot(x, dy, label='Derivative')\n",
    "    plt.xlabel('x')\n",
    "    plt.ylabel('y')\n",
    "    plt.title('Function and Its Derivative')\n",
    "    plt.legend()\n",
    "    plt.grid(True)\n",
    "    plt.show()\n",
    "\n",
    "# Example usage:\n",
    "# Define your function\n",
    "def my_function(x):\n",
    "    return x**2\n",
    "\n",
    "# Plot the function and its derivative\n",
    "plot_derivative(my_function)\n",
    "\n",
    "# Plot the function and its derivative, providing the derivative function separately\n",
    "plot_derivative(lambda x: x**2, lambda x: 2*x)"
   ]
  },
  {
   "cell_type": "markdown",
   "metadata": {},
   "source": [
    "Let's now test with out favourite function: $y = x^2$ whose derivative is $y' = 2x$. If you've worked correctly, both of the following plots should be the same."
   ]
  },
  {
   "cell_type": "code",
   "execution_count": null,
   "metadata": {},
   "outputs": [],
   "source": [
    "plot_derivative(lambda x: x ** 2, lambda x: 2 * x) # The derivative is calculated by hand\n",
    "plot_derivative(lambda x: x ** 2) # The derivative is not pre-calculated, should be calculated inside the function"
   ]
  },
  {
   "cell_type": "markdown",
   "metadata": {},
   "source": [
    "Let's try one more: $y = \\sin(x)$, $y'= \\cos(x)$."
   ]
  },
  {
   "cell_type": "code",
   "execution_count": null,
   "metadata": {},
   "outputs": [],
   "source": [
    "plot_derivative(np.sin)"
   ]
  },
  {
   "cell_type": "markdown",
   "metadata": {},
   "source": [
    "These plots may look nice but they don't reflect the idea of **slope at a point** very well. Now that we're sure our functions are working, let's actually calculate the derivative at **one point** and see that it is, indeed, equal to the slope of the function at that point.\n",
    "\n",
    "#### How to plot the tangent line?\n",
    "We need to find the line equation first. \n",
    "\n",
    "We're given the derivative, which is equal to the slope of the line. In the line equation $y = ax + b$, the slope is $a$. We now have to find $b$. We're given a point $P(x_P; y_P)$ through which the line passes. Substitute $x_P$ and $y_P$:\n",
    "$$ y_P = ax_P + b $$\n",
    "\n",
    "$$ b = y_P - ax_P $$\n",
    "\n",
    "Now that we have $a$ and $b$, we can plot the line given by $y = ax + b$. The parameter $b$ is sometimes called \"y-intercept\" (or \"intercept\").\n",
    "\n",
    "Now we can copy the code from the previous function. This time, however, we won't plot the entire range, only one value of the derivative. We'll also show the point where we're calculating."
   ]
  },
  {
   "cell_type": "code",
   "execution_count": null,
   "metadata": {},
   "outputs": [],
   "source": [
    "def plot_derivative_at_point(function, point, derivative = None, min_x = -10, max_x = 10):\n",
    "    \"\"\"\n",
    "    Plots the function in the range [x_min; x_max]. Computes the tangent line to the function\n",
    "    at the given point and also plots it\n",
    "    \"\"\"\n",
    "    vectorized_function = np.vectorize(function)\n",
    "    \n",
    "    x = np.linspace(min_x, max_x, 1000)\n",
    "    y = vectorized_function(x)\n",
    "    \n",
    "    slope = 0 # Slope of the tangent line\n",
    "    if derivative is None:\n",
    "        slope = calculate_derivative_at_point(function, point)\n",
    "    else:\n",
    "        slope = derivative(point)\n",
    "    \n",
    "    intercept = function(point) - slope * point\n",
    "    tangent_line_x = np.linspace(point - 2, point + 2, 10)\n",
    "    tangent_line_y = slope * tangent_line_x + intercept\n",
    "    plt.plot(x, y)\n",
    "    plt.plot(tangent_line_x, tangent_line_y)\n",
    "    plt.show()"
   ]
  },
  {
   "cell_type": "code",
   "execution_count": null,
   "metadata": {},
   "outputs": [],
   "source": [
    "plot_derivative_at_point(lambda x: x ** 2, 2)"
   ]
  },
  {
   "cell_type": "markdown",
   "metadata": {},
   "source": [
    "Looks like it! Let's zoom in to confirm:"
   ]
  },
  {
   "cell_type": "code",
   "execution_count": null,
   "metadata": {},
   "outputs": [],
   "source": [
    "plot_derivative_at_point(lambda x: x ** 2, 2, min_x = 0, max_x = 4)"
   ]
  },
  {
   "cell_type": "markdown",
   "metadata": {},
   "source": [
    "Let's also plot several tangents to the same function. Note that this will create many graphs by default. You can plot them all at once if you wish."
   ]
  },
  {
   "cell_type": "code",
   "execution_count": null,
   "metadata": {},
   "outputs": [],
   "source": [
    "for x in np.arange(-8, 10, 2):\n",
    "    plot_derivative_at_point(lambda x: x ** 2, x)"
   ]
  },
  {
   "cell_type": "code",
   "execution_count": null,
   "metadata": {},
   "outputs": [],
   "source": [
    "for x in np.arange(-8, 10, 2):\n",
    "    plot_derivative_at_point(np.sin, x)"
   ]
  },
  {
   "cell_type": "markdown",
   "metadata": {},
   "source": [
    "Now we have a visual proof that the derivative of a function at a given point is equal to the slope of the tangent line to the function."
   ]
  },
  {
   "cell_type": "markdown",
   "metadata": {},
   "source": [
    "### Problem 2. Limits. The Number $e$ as a Limit\n",
    "We know what limits are, what they mean and how they relate to our tasks. Let's explore a special limit. This one arises from economics but we'll see it has applications throughout science because of its unique properties.\n",
    "\n",
    "Imagine you're saving money in a bank. Every period, you accumulate [interest](https://en.wikipedia.org/wiki/Compound_interest) on your money. Let's say the bank is very generous and gives you **100% interest every year**.\n",
    "\n",
    "How much money will you have after one year? Let's say you got $\\$1$. After one year, you'll get your interest from the bank and you'll have $\\$2$. Your money doubled, which was expected.\n",
    "\n",
    "How about this offer: **50% interest every 6 months**? Will this be the same, better, or worse?\n",
    "You start with $\\$1$. After 6 months, you'll accumulate $50%$ interest to get $\\$1,50$. After 6 more months, you'll get $50\\%.1,50 = 0,75$, so your total is $2,25$. You got $\\$0,25$ more!\n",
    "\n",
    "Let's try to exploit the scheme and get rich.\n",
    "\n",
    "**$100/12\\%$ every month**\n",
    "* January: $1 + 1/12$\n",
    "* February: $(1 + 1/12) * (1 + 1/12)$\n",
    "* March: $(1 + 1/12) * (1 + 1/12) * (1 + 1/12)$\n",
    "* ...\n",
    "\n",
    "We can see a pattern. Every period, we multiply our money by $1 + 1/12$. So, the final sum will be $$\\$1.\\left(1+\\frac{1}{12}\\right)^{12} = \\$2,61$$\n",
    "\n",
    "We did even better. This is always true. The more periods, the more money we accumulate. The more money we have, the more interest we accumulate. And that completes the vicious circle known as money saving :).\n",
    "\n",
    "Let's try other options:\n",
    "\n",
    "**$100/52\\%$ every week**\n",
    "\n",
    "$\\$1.\\left(1+\\frac{1}{52}\\right)^{52} = \\$2,69$\n",
    "\n",
    "**$100/31556926\\%$ every second**\n",
    "\n",
    "$\\$1.\\left(1+\\frac{1}{31556926}\\right)^{31556926} = \\$2,718$\n",
    "\n",
    "Well, there's a slight problem to our world domination plans. Even though we accumulate more and more money, we get *diminishing returns*. For 52 periods we got $2,69$, and for more than 3 million periods we only got like $\\$0,02$ more. This pattern will continue.\n",
    "\n",
    "Now we can ask ourselves, what is the maximum profit we can accumulate for a year? To do this, we can ask\n",
    "$$ \\lim_{n \\ \\rightarrow \\infty}\\left(1+\\frac{1}{n}\\right)^n = ? $$\n",
    "\n",
    "It turns out this is a constant. It is approximately equal to $2,71828182\\dots$. Since it's very useful, it's got a name: $e$, or Euler's number (sometimes called Napier's number). The limit above is **the definition of $e$**.\n",
    "\n",
    "Why is it so useful? Let's go back to the original problem. In compound interest, the extra amount after every period is proportional to the amount at the start of the period. In other words, **the rate of change of a value is proportional to the value**. This pops out everywhere in nature and business. Some examples include radioactive decay (more atoms $\\Rightarrow$ more decays), cooling down a cup of tea (the rate of cooling down depends on the temperature difference between the cup and the room), animal population models (more animals $\\Rightarrow$ more babies), infection models, and so on.\n",
    "\n",
    "To quickly verify the value of $e$, calculate the limit as we defined it above."
   ]
  },
  {
   "cell_type": "code",
   "execution_count": null,
   "metadata": {},
   "outputs": [],
   "source": [
    "def calculate_limit_at_infinity(function):\n",
    "    \"\"\"\n",
    "    Calculates a numerical approximation of the limit of the specified function\n",
    "    as its parameter goes to infinity\n",
    "    \"\"\"\n",
    "    n = 10 ** np.arange(0, 10)\n",
    "    return zip(n, function(n))"
   ]
  },
  {
   "cell_type": "code",
   "execution_count": null,
   "metadata": {},
   "outputs": [],
   "source": [
    "limits = calculate_limit_at_infinity(lambda x: (1 + 1 / x) ** x)\n",
    "for limit in limits:\n",
    "    print(limit)"
   ]
  },
  {
   "cell_type": "markdown",
   "metadata": {},
   "source": [
    "### Problem 3. Derivatives of Exponential Functions\n",
    "Use the function you defined in the first problem to plot the derivative of $y = 2^x$."
   ]
  },
  {
   "cell_type": "code",
   "execution_count": null,
   "metadata": {},
   "outputs": [],
   "source": [
    "plot_derivative(lambda x: 2 ** x, min_x = 0, max_x = 10)"
   ]
  },
  {
   "cell_type": "markdown",
   "metadata": {},
   "source": [
    "The function and its derivative look closely related, only the derivative seems to grow a bit slower than the function. Let's confirm that by looking at a broader range:"
   ]
  },
  {
   "cell_type": "code",
   "execution_count": null,
   "metadata": {},
   "outputs": [],
   "source": [
    "plot_derivative(lambda x: 2 ** x, min_x = 0, max_x = 20)"
   ]
  },
  {
   "cell_type": "markdown",
   "metadata": {},
   "source": [
    "The same pattern will continue if we try to plot any exponential function, e.g. $y = 3^x$, $y = 4^x$ and so on, if the base of the exponent is greater than 1. If we want to plot, say, $y = 0,5^x$, we'll get a slightly different result. Note that the functions look more or less the same, only their signs are flipped."
   ]
  },
  {
   "cell_type": "code",
   "execution_count": null,
   "metadata": {},
   "outputs": [],
   "source": [
    "plot_derivative(lambda x: 0.5 ** x)"
   ]
  },
  {
   "cell_type": "markdown",
   "metadata": {},
   "source": [
    "Very interesting things happen if we plot $y = e^x$:"
   ]
  },
  {
   "cell_type": "code",
   "execution_count": null,
   "metadata": {},
   "outputs": [],
   "source": [
    "plot_derivative(np.exp)"
   ]
  },
  {
   "cell_type": "markdown",
   "metadata": {},
   "source": [
    "The plots overlap. You can see that this is true if you plot the function and its derivative with different line widths. This means that\n",
    "\n",
    "$$ (e^x)' = e^x $$\n",
    "\n",
    "Also:\n",
    "$$ (e^x)'' = e^x $$\n",
    "$$ (e^x)''' = e^x $$\n",
    "... and so on. This is the only function whose rate of change (derivative) is equal to the function itself. This property makes it even more interesting for science and math.\n",
    "\n",
    "Also, do you remember that $e^{i\\varphi} = \\cos(\\varphi) + i\\sin(\\varphi)$? This constant never ceases to amaze."
   ]
  },
  {
   "cell_type": "markdown",
   "metadata": {},
   "source": [
    "### Problem 4. Integrals and Area. Changing Variables in Integration\n",
    "We know that the definition of an integral is the area \"between\" the function we're integrating, and the x-axis. This gives us a method to calculate integrals. Most integrals can't be solved analytically but have numerical solutions. One such integral is \n",
    "$$\\int\\sin(x^2)dx$$\n",
    "\n",
    "Note that we can only solve **definite integrals** numerically.\n",
    "\n",
    "The simplest way to calculate the integral is to apply the definition, like in the case of the derivative. This is called [the trapezoid method](http://www.mathwords.com/t/trapezoid_rule.htm) because the area is approximated as a series of trapezoids.\n",
    "\n",
    "Write a function which does exactly that. Use `numpy` and vectorization as much as possible."
   ]
  },
  {
   "cell_type": "markdown",
   "metadata": {},
   "source": [
    "## The code below demonstarde the trapezoid rule "
   ]
  },
  {
   "cell_type": "code",
   "execution_count": null,
   "metadata": {},
   "outputs": [],
   "source": [
    "import numpy as np\n",
    "\n",
    "def trapezoidal_rule_integration(func, a, b, n=1000):\n",
    "    \"\"\"\n",
    "    Numerically approximates the definite integral of the given function\n",
    "    using the trapezoidal rule within the interval [a, b].\n",
    "    \n",
    "    Parameters:\n",
    "        func (function): The function to be integrated.\n",
    "        a (float): The lower limit of integration.\n",
    "        b (float): The upper limit of integration.\n",
    "        n (int): The number of subdivisions for the trapezoidal rule.\n",
    "                 Default is 1000.\n",
    "    \n",
    "    Returns:\n",
    "        float: The approximate value of the definite integral.\n",
    "    \"\"\"\n",
    "    # Generate equally spaced points between a and b\n",
    "    x = np.linspace(a, b, n+1)\n",
    "    \n",
    "    # Evaluate the function at these points\n",
    "    y = func(x)\n",
    "    \n",
    "    # Calculate the width of each trapezoid\n",
    "    dx = (b - a) / n\n",
    "    \n",
    "    # Use the trapezoidal rule formula to approximate the integral\n",
    "    integral = dx * (np.sum(y) - 0.5 * (y[0] + y[-1]))\n",
    "    \n",
    "    return integral\n",
    "\n",
    "# Define the function to be integrated\n",
    "def func(x):\n",
    "    return np.sin(x**2)\n",
    "\n",
    "# Define the interval [a, b]\n",
    "a = 0\n",
    "b = 2\n",
    "\n",
    "# Approximate the integral using the trapezoidal rule\n",
    "integral_approx = trapezoidal_rule_integration(func, a, b)\n",
    "print(\"Approximate value of the integral:\", integral_approx)\n"
   ]
  },
  {
   "cell_type": "code",
   "execution_count": null,
   "metadata": {},
   "outputs": [],
   "source": [
    "def calculate_integral(function, x_min, x_max, num_points = 5000):\n",
    "    \"\"\"\n",
    "    Calculates a numerical approximation of the definite integral of the provided function\n",
    "    between the points x_min and x_max.\n",
    "    The parameter n specifies the number of points at which the integral will be calculated\n",
    "    \"\"\"\n",
    "    # Write your code here\n",
    "     # Generate equally spaced points between x_min and x_max\n",
    "    x_values = np.linspace(x_min, x_max, num_points)\n",
    "    \n",
    "    # Calculate the width of each interval\n",
    "    dx = (x_max - x_min) / (num_points - 1)\n",
    "    \n",
    "    # Evaluate the function at each point\n",
    "    y_values = function(x_values)\n",
    "    \n",
    "    # Calculate the sum of areas of trapezoids\n",
    "    integral = dx * (np.sum(y_values) - 0.5 * (y_values[0] + y_values[-1]))\n",
    "    \n",
    "    return integral\n",
    "\n",
    "\n"
   ]
  },
  {
   "cell_type": "code",
   "execution_count": null,
   "metadata": {},
   "outputs": [],
   "source": [
    "print(calculate_integral(lambda x: x ** 2, 0, 1)) # Should be close to 0.333\n",
    "print(calculate_integral(lambda x: np.sin(x ** 2), 0, 5)) # Should be close to 0.528"
   ]
  },
  {
   "cell_type": "markdown",
   "metadata": {},
   "source": [
    "Let's apply our insight to finding the area of a circle. We know the equation of a circle is not a function (it's more like two functions). We can, however be clever. One way is to integrate both of the functions and add them together. Another way is to integrate one and double the area. \n",
    "\n",
    "**Note:** We're trying to find the total area of the circle, there is **no negative area** in this particular case.\n",
    "\n",
    "Another, even more clever way is to look at a quarter of the circle. This is convenient because we may look at the quadrant where $x > 0$ and $y > 0$. So, we'll need to find the area between:\n",
    "1. $x \\ge 0$\n",
    "2. $y \\ge 0$\n",
    "3. The circle $x^2 + y^2 \\le R^2$ (let's fix the radius to be 1)\n",
    "\n",
    "$\\Rightarrow y = \\sqrt{R^2 - x^2} = \\sqrt{1 - x^2}$\n",
    "\n",
    "After all of this, we'll need to multiply the result by 4.\n",
    "\n",
    "$$ S = 4 \\int_0^1\\sqrt{1 - x^2}dx $$"
   ]
  },
  {
   "cell_type": "code",
   "execution_count": null,
   "metadata": {},
   "outputs": [],
   "source": [
    "circle_piece_area = calculate_integral(lambda x: np.sqrt(1 - x ** 2), 0, 1)\n",
    "total_area = 4 * circle_piece_area\n",
    "print(total_area)"
   ]
  },
  {
   "cell_type": "markdown",
   "metadata": {},
   "source": [
    "And we got a value close to $\\pi$, which is the real answer.\n",
    "\n",
    "#### * Optional: Integration in polar coordinates\n",
    "We can, however, do better. We know that a circle looks much simpler in polar coordinates. Let's now change our viewpoint.\n",
    "\n",
    "In polar coordinates $(r, \\varphi)$, the equation of a circle is\n",
    "\n",
    "$$ r = R $$\n",
    "\n",
    "which is our case simplifies to $r = 1$. Note there's no dependence on $\\theta$: the radius is the same regardless of the angle. The boundaries for $\\theta$ are every possible angle from $0$ to $2\\pi$ radians. For $r$, we have $r \\ge 0$ and $r \\le R$. This translates to the integral:\n",
    "\n",
    "$$ S = \\int_{\\theta=0}^{2\\pi}\\int_{r=0}^R r dr d\\theta $$\n",
    "\n",
    "**Note:** We usually don't write the variables at the bottom of the integral symbol. I've done this just for clarity.\n",
    "\n",
    "I won't go into details but since there's no dependence on $\\theta$, we can simply \"separate the integrals\" and multiply \n",
    "them.\n",
    "\n",
    "$$ S = \\int_{0}^{2\\pi}d\\theta .\\int_{r=0}^R r dr $$\n",
    "\n",
    "The first one is:\n",
    "$$ I_1 = \\int_0^R r dr = \\left.\\frac{r^2}{2}\\right|_{0}^{R} = \\frac{R^2}{2} - \\frac{0^2}{2} = \\frac{R^2}{2} $$\n",
    "\n",
    "And the second one is:\n",
    "$$ I_2 = \\int_0^{2\\pi}1d\\theta = \\left.\\theta\\right|_0^{2\\pi} = 2\\pi - 0 = 2\\pi $$\n",
    "\n",
    "$$ \\Rightarrow  S = I_1I_2 = 2\\pi\\frac{R^2}{2} = \\pi R^2$$\n",
    "\n",
    "$$ S = \\pi R^2$$"
   ]
  },
  {
   "cell_type": "markdown",
   "metadata": {},
   "source": [
    "### * Problem 5. Taylor Series. Computing Function Value Approximations\n",
    "Some functions can be really hard to compute, or even impossible. However, there are ways to approximate functions with other functions, which are simpler. The idea is the same as what we already used: we approximated the function with its tangent line to find the derivative at a given point. Research what Taylor series are and how they're used in approximating functions. Derive and implement the Taylor expansions of several functions.\n",
    "* What is \"function approximation\"?\n",
    "* Why can't we compute all functions numerically?\n",
    "* What are some easy ways to approximate a function near a given point?\n",
    "* Polynomial functions are very useful approximators. Why? Think about their continuity and derivatives\n",
    "* What information does the first derivative of a function give us?\n",
    "    * How does that information generalize to higher-order derivatives (second, third, fourth, etc.)?\n",
    "* What are Taylor series? Why does it work?\n",
    "    * Derive the formula\n",
    "    * What are Maclaurin series? What's the difference?\n",
    "* Derive some Taylor series expansions. Some common functions are $\\sin(x)$ and $\\cos(x)$\n",
    "    * To work with infinite sums, we have to \"cut\" them somewhere. Why are we allowed to do that? Think about the different terms: one Taylor expansion term doesn't affect the others\n",
    "    * How are those expansions used in calculators / numerical libraries?\n",
    "    * Write the code that computes the approximations\n",
    "    * Test the code\n",
    "* How many terms do we need?\n",
    "    * Visualize how the approximation is getting better as we include more terms in the Taylor expansion\n",
    "    "
   ]
  },
  {
   "cell_type": "markdown",
   "metadata": {},
   "source": [
    "#### 1.Function approximation is the process of finding a simpler function that closely matches the behavior of a given complex function within a certain range or at specific points. This is often done to simplify calculations or to approximate functions that are difficult or impossible to compute directly.\n",
    "\n",
    "#### 2.We can't compute all functions numerically because some functions may not have closed-form solutions, or their computations may be extremely complex and time-consuming. Additionally, numerical methods may introduce errors due to the limitations of computer arithmetic or the computational cost of evaluating the function at many points.\n",
    "\n",
    "#### 3.Some easy ways to approximate a function near a given point include using Taylor series expansions, linear interpolation, polynomial regression, or piecewise approximation with simpler functions.\n",
    "\n",
    "#### 4.Polynomial functions are useful approximators because they are easy to evaluate and manipulate, and they can approximate many other functions with high accuracy using Taylor series expansions. Polynomials are also continuous and infinitely differentiable, which means they can closely match the behavior of smooth functions in small intervals.\n",
    "\n",
    "#### 5.The first derivative of a function gives us information about its rate of change or slope at each point. \n",
    "    5.1.Higher-order derivatives provide more detailed information about the curvature, concavity, and higher-order behavior of the function.\n",
    "\n",
    "#### 6.Taylor series are infinite series expansions of a function around a point. They approximate the function as an infinite sum of terms involving the function's derivatives evaluated at that point.\n",
    "\n",
    "#### 7.The Maclaurin series is a special case of the Taylor series where the expansion is centered at x=0x=0.\n",
    "\n",
    "#### The Taylor series expansion of a function f(x)f(x) around a point aa is given by:\n",
    "\n",
    "$[\n",
    "f(x) = f(a) + f'(a)(x - a) + \\frac{f''(a)}{2!}(x - a)^2 + \\frac{f^{(3)}(a)}{3!}(x - a)^3 + \\cdots\n",
    "]$\n",
    "\n",
    "\n",
    "Each term in the series represents the contribution of a specific derivative of the function evaluated at the point aa. By including more terms in the series, we can achieve a more accurate approximation of the function near the point aa.\n",
    "\n",
    "In practice, Taylor series expansions are used in calculators and numerical libraries to compute approximate values of functions efficiently. These expansions are often truncated after a certain number of terms to simplify the computation and improve efficiency.\n",
    "\n",
    "Here's an example code in Python that computes the Taylor series expansions for sin⁡(x)sin(x) and cos⁡(x)cos(x) functions:"
   ]
  },
  {
   "cell_type": "code",
   "execution_count": null,
   "metadata": {},
   "outputs": [],
   "source": [
    "def sin_taylor(x, terms=5):\n",
    "    \"\"\"\n",
    "    Compute the Taylor series expansion of sin(x) around x=0 up to the specified number of terms.\n",
    "    \"\"\"\n",
    "    result = 0\n",
    "    for n in range(terms):\n",
    "        result += ((-1) ** n) * (x ** (2 * n + 1)) / math.factorial(2 * n + 1)\n",
    "    return result\n",
    "\n",
    "def cos_taylor(x, terms=5):\n",
    "    \"\"\"\n",
    "    Compute the Taylor series expansion of cos(x) around x=0 up to the specified number of terms.\n",
    "    \"\"\"\n",
    "    result = 0\n",
    "    for n in range(terms):\n",
    "        result += ((-1) ** n) * (x ** (2 * n)) / math.factorial(2 * n)\n",
    "    return result\n",
    "\n",
    "# Test the functions\n",
    "x_values = np.linspace(-np.pi, np.pi, 100)\n",
    "sin_approx = sin_taylor(x_values)\n",
    "cos_approx = cos_taylor(x_values)\n",
    "\n",
    "# Plot the results\n",
    "import matplotlib.pyplot as plt\n",
    "\n",
    "plt.plot(x_values, np.sin(x_values), label='sin(x)')\n",
    "plt.plot(x_values, sin_approx, label='Taylor series approximation')\n",
    "plt.title('Taylor Series Approximation of sin(x)')\n",
    "plt.xlabel('x')\n",
    "plt.ylabel('y')\n",
    "plt.legend()\n",
    "plt.show()\n",
    "\n",
    "plt.plot(x_values, np.cos(x_values), label='cos(x)')\n",
    "plt.plot(x_values, cos_approx, label='Taylor series approximation')\n",
    "plt.title('Taylor Series Approximation of cos(x)')\n",
    "plt.xlabel('x')\n",
    "plt.ylabel('y')\n",
    "plt.legend()\n",
    "plt.show()"
   ]
  },
  {
   "cell_type": "markdown",
   "metadata": {},
   "source": [
    "### ** 6. Calculus in Medical Data. Electrocardiography (EKG)\n",
    "EKG data is basically a 1-dimensional function of time. It records electrical impulses which depend on the state of the heart. How can we analyze EKG data?\n",
    "* What is EKG data? What is the physical process and what is its interpretation?\n",
    "    * Provide several EKG plots\n",
    "    * What are the main parts of an EKG?\n",
    "* How does the concept of local extrema relate to EKG?\n",
    "* How does the concept of \"convex\" / \"concave\" graphs relate to EKG?\n",
    "\n",
    "You can take various paths witk EKG data. Some companies, Samsung for example, use a heart rate sensor to measure stress and blood oxygen levels. An algorithm takes data for several seconds or minutes and analyzes it in several ways.\n",
    "* Optional: Research how you can use EKG or pulse sensor data to measure oxygen in the blood. Have a look [here](https://www.quora.com/How-do-optical-heart-rate-sensors-work) for example\n",
    "* Optional: How can you use the pulse sensor data to measure stress levels? There are many approaches to this one.\n",
    "* Optional: Many diseases can be diagnosed from EKG data. Can you train an algorithm to recognize a certain disease? This is related to *time series* analysis"
   ]
  },
  {
   "cell_type": "markdown",
   "metadata": {},
   "source": [
    "### ** 7. Physics Engine\n",
    "Use your knowledge of vectors, algebra and calculus to create a physics engine. You can use this for many things. One example is computer games. Another example is computer simulation.\n",
    "\n",
    "Don't forget to provide details about your calculations and implementations. \n",
    "* Implement vectors and operations\n",
    "* Implement visualization\n",
    "* Implement Newtonian mechanics with forces as vectors acting on material points\n",
    "* Implement another physical process: e.g. collision detection. This should take into account momentum and the law of conservation of momentum\n",
    "    * You can also implement other physical phenomena (e.g. heat transfer, reflection of light, etc.), as you need."
   ]
  },
  {
   "cell_type": "code",
   "execution_count": null,
   "metadata": {},
   "outputs": [],
   "source": []
  }
 ],
 "metadata": {
  "kernelspec": {
   "display_name": "Python 3 (ipykernel)",
   "language": "python",
   "name": "python3"
  },
  "language_info": {
   "codemirror_mode": {
    "name": "ipython",
    "version": 3
   },
   "file_extension": ".py",
   "mimetype": "text/x-python",
   "name": "python",
   "nbconvert_exporter": "python",
   "pygments_lexer": "ipython3",
   "version": "3.10.12"
  }
 },
 "nbformat": 4,
 "nbformat_minor": 4
}
